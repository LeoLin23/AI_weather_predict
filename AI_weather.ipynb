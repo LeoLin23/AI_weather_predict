{
  "nbformat": 4,
  "nbformat_minor": 0,
  "metadata": {
    "colab": {
      "name": "AI_weather.ipynb",
      "provenance": []
    },
    "kernelspec": {
      "name": "python3",
      "display_name": "Python 3"
    }
  },
  "cells": [
    {
      "cell_type": "code",
      "metadata": {
        "id": "tshWod5keFZk"
      },
      "source": [
        "import tensorflow as tf\n",
        "from tensorflow import keras\n",
        "\n",
        "from keras.models import Sequential\n",
        "from keras.layers import Dense\n",
        "from keras.layers import Dropout\n",
        "from sklearn.model_selection import KFold\n",
        "from sklearn import preprocessing\n",
        "from sklearn.neighbors import KNeighborsClassifier\n",
        "from sklearn import metrics\n",
        "from sklearn.model_selection import GridSearchCV\n",
        "from xgboost import XGBClassifier\n",
        "import seaborn as sns\n",
        "\n",
        "import pandas as pd\n",
        "import math\n",
        "import numpy as np\n",
        "import os\n",
        "import matplotlib.pyplot as plt\n",
        "import pandas as pd\n",
        "import math\n",
        "import numpy as np\n",
        "import os\n",
        "import matplotlib.pyplot as plt"
      ],
      "execution_count": null,
      "outputs": []
    },
    {
      "cell_type": "markdown",
      "metadata": {
        "id": "P52bIa6ieone"
      },
      "source": [
        "Read Data"
      ]
    },
    {
      "cell_type": "code",
      "metadata": {
        "colab": {
          "base_uri": "https://localhost:8080/"
        },
        "id": "6kjDfrmNem9z",
        "outputId": "e7543c73-fb84-4b76-ba9e-833f6bafd668"
      },
      "source": [
        "from google.colab import drive\n",
        "drive.mount('/content/drive')"
      ],
      "execution_count": null,
      "outputs": [
        {
          "output_type": "stream",
          "text": [
            "Drive already mounted at /content/drive; to attempt to forcibly remount, call drive.mount(\"/content/drive\", force_remount=True).\n"
          ],
          "name": "stdout"
        }
      ]
    },
    {
      "cell_type": "code",
      "metadata": {
        "id": "L5r6f9f4enAI"
      },
      "source": [
        "os.chdir('/content/drive/My Drive/AI_weather')"
      ],
      "execution_count": null,
      "outputs": []
    },
    {
      "cell_type": "code",
      "metadata": {
        "colab": {
          "base_uri": "https://localhost:8080/",
          "height": 196
        },
        "id": "rdAE1OZeenFN",
        "outputId": "313b0f35-e4d4-4964-e4f9-e81c9e502d92"
      },
      "source": [
        "weather = pd.read_csv(\"train.csv\")\n",
        "weather.head()"
      ],
      "execution_count": null,
      "outputs": [
        {
          "output_type": "execute_result",
          "data": {
            "text/html": [
              "<div>\n",
              "<style scoped>\n",
              "    .dataframe tbody tr th:only-of-type {\n",
              "        vertical-align: middle;\n",
              "    }\n",
              "\n",
              "    .dataframe tbody tr th {\n",
              "        vertical-align: top;\n",
              "    }\n",
              "\n",
              "    .dataframe thead th {\n",
              "        text-align: right;\n",
              "    }\n",
              "</style>\n",
              "<table border=\"1\" class=\"dataframe\">\n",
              "  <thead>\n",
              "    <tr style=\"text-align: right;\">\n",
              "      <th></th>\n",
              "      <th>Unnamed: 0</th>\n",
              "      <th>X1</th>\n",
              "      <th>X2</th>\n",
              "      <th>X3</th>\n",
              "      <th>X4</th>\n",
              "      <th>X5</th>\n",
              "      <th>X6</th>\n",
              "      <th>X7</th>\n",
              "      <th>X8</th>\n",
              "      <th>X9</th>\n",
              "      <th>X10</th>\n",
              "      <th>X11</th>\n",
              "      <th>Y</th>\n",
              "    </tr>\n",
              "  </thead>\n",
              "  <tbody>\n",
              "    <tr>\n",
              "      <th>0</th>\n",
              "      <td>0</td>\n",
              "      <td>6.8</td>\n",
              "      <td>0.24</td>\n",
              "      <td>0.29</td>\n",
              "      <td>9.5</td>\n",
              "      <td>0.042</td>\n",
              "      <td>56.0</td>\n",
              "      <td>157.0</td>\n",
              "      <td>0.99586</td>\n",
              "      <td>3.11</td>\n",
              "      <td>0.51</td>\n",
              "      <td>10.1</td>\n",
              "      <td>3</td>\n",
              "    </tr>\n",
              "    <tr>\n",
              "      <th>1</th>\n",
              "      <td>1</td>\n",
              "      <td>6.2</td>\n",
              "      <td>0.37</td>\n",
              "      <td>0.24</td>\n",
              "      <td>6.1</td>\n",
              "      <td>0.032</td>\n",
              "      <td>19.0</td>\n",
              "      <td>86.0</td>\n",
              "      <td>0.98934</td>\n",
              "      <td>3.04</td>\n",
              "      <td>0.26</td>\n",
              "      <td>13.4</td>\n",
              "      <td>5</td>\n",
              "    </tr>\n",
              "    <tr>\n",
              "      <th>2</th>\n",
              "      <td>2</td>\n",
              "      <td>6.0</td>\n",
              "      <td>0.40</td>\n",
              "      <td>0.30</td>\n",
              "      <td>1.6</td>\n",
              "      <td>0.047</td>\n",
              "      <td>30.0</td>\n",
              "      <td>117.0</td>\n",
              "      <td>0.99310</td>\n",
              "      <td>3.17</td>\n",
              "      <td>0.48</td>\n",
              "      <td>10.1</td>\n",
              "      <td>3</td>\n",
              "    </tr>\n",
              "    <tr>\n",
              "      <th>3</th>\n",
              "      <td>3</td>\n",
              "      <td>7.1</td>\n",
              "      <td>0.28</td>\n",
              "      <td>0.19</td>\n",
              "      <td>7.8</td>\n",
              "      <td>0.040</td>\n",
              "      <td>48.0</td>\n",
              "      <td>184.0</td>\n",
              "      <td>0.99579</td>\n",
              "      <td>3.16</td>\n",
              "      <td>0.50</td>\n",
              "      <td>9.4</td>\n",
              "      <td>2</td>\n",
              "    </tr>\n",
              "    <tr>\n",
              "      <th>4</th>\n",
              "      <td>4</td>\n",
              "      <td>7.0</td>\n",
              "      <td>0.35</td>\n",
              "      <td>0.24</td>\n",
              "      <td>1.9</td>\n",
              "      <td>0.040</td>\n",
              "      <td>21.0</td>\n",
              "      <td>144.0</td>\n",
              "      <td>0.99230</td>\n",
              "      <td>3.35</td>\n",
              "      <td>0.38</td>\n",
              "      <td>11.0</td>\n",
              "      <td>2</td>\n",
              "    </tr>\n",
              "  </tbody>\n",
              "</table>\n",
              "</div>"
            ],
            "text/plain": [
              "   Unnamed: 0   X1    X2    X3   X4     X5  ...     X7       X8    X9   X10   X11  Y\n",
              "0           0  6.8  0.24  0.29  9.5  0.042  ...  157.0  0.99586  3.11  0.51  10.1  3\n",
              "1           1  6.2  0.37  0.24  6.1  0.032  ...   86.0  0.98934  3.04  0.26  13.4  5\n",
              "2           2  6.0  0.40  0.30  1.6  0.047  ...  117.0  0.99310  3.17  0.48  10.1  3\n",
              "3           3  7.1  0.28  0.19  7.8  0.040  ...  184.0  0.99579  3.16  0.50   9.4  2\n",
              "4           4  7.0  0.35  0.24  1.9  0.040  ...  144.0  0.99230  3.35  0.38  11.0  2\n",
              "\n",
              "[5 rows x 13 columns]"
            ]
          },
          "metadata": {
            "tags": []
          },
          "execution_count": 28
        }
      ]
    },
    {
      "cell_type": "code",
      "metadata": {
        "colab": {
          "base_uri": "https://localhost:8080/"
        },
        "id": "aAnTTRV6q20G",
        "outputId": "fd125c65-92ad-460c-e62c-809b4c083f73"
      },
      "source": [
        "col = weather.columns       # .columns gives columns names in data \n",
        "print(col)"
      ],
      "execution_count": null,
      "outputs": [
        {
          "output_type": "stream",
          "text": [
            "Index(['Unnamed: 0', 'X1', 'X2', 'X3', 'X4', 'X5', 'X6', 'X7', 'X8', 'X9',\n",
            "       'X10', 'X11', 'Y'],\n",
            "      dtype='object')\n"
          ],
          "name": "stdout"
        }
      ]
    },
    {
      "cell_type": "code",
      "metadata": {
        "colab": {
          "base_uri": "https://localhost:8080/",
          "height": 196
        },
        "id": "o7VuxB6Qq7Ie",
        "outputId": "eb7561fc-5a51-4691-c4a0-2b1096602636"
      },
      "source": [
        "answer_Y=weather.Y\n",
        "drop_list = ['Unnamed: 0','Y']\n",
        "X = weather.drop(drop_list,axis = 1 )\n",
        "X.head()"
      ],
      "execution_count": null,
      "outputs": [
        {
          "output_type": "execute_result",
          "data": {
            "text/html": [
              "<div>\n",
              "<style scoped>\n",
              "    .dataframe tbody tr th:only-of-type {\n",
              "        vertical-align: middle;\n",
              "    }\n",
              "\n",
              "    .dataframe tbody tr th {\n",
              "        vertical-align: top;\n",
              "    }\n",
              "\n",
              "    .dataframe thead th {\n",
              "        text-align: right;\n",
              "    }\n",
              "</style>\n",
              "<table border=\"1\" class=\"dataframe\">\n",
              "  <thead>\n",
              "    <tr style=\"text-align: right;\">\n",
              "      <th></th>\n",
              "      <th>X1</th>\n",
              "      <th>X2</th>\n",
              "      <th>X3</th>\n",
              "      <th>X4</th>\n",
              "      <th>X5</th>\n",
              "      <th>X6</th>\n",
              "      <th>X7</th>\n",
              "      <th>X8</th>\n",
              "      <th>X9</th>\n",
              "      <th>X10</th>\n",
              "      <th>X11</th>\n",
              "    </tr>\n",
              "  </thead>\n",
              "  <tbody>\n",
              "    <tr>\n",
              "      <th>0</th>\n",
              "      <td>6.8</td>\n",
              "      <td>0.24</td>\n",
              "      <td>0.29</td>\n",
              "      <td>9.5</td>\n",
              "      <td>0.042</td>\n",
              "      <td>56.0</td>\n",
              "      <td>157.0</td>\n",
              "      <td>0.99586</td>\n",
              "      <td>3.11</td>\n",
              "      <td>0.51</td>\n",
              "      <td>10.1</td>\n",
              "    </tr>\n",
              "    <tr>\n",
              "      <th>1</th>\n",
              "      <td>6.2</td>\n",
              "      <td>0.37</td>\n",
              "      <td>0.24</td>\n",
              "      <td>6.1</td>\n",
              "      <td>0.032</td>\n",
              "      <td>19.0</td>\n",
              "      <td>86.0</td>\n",
              "      <td>0.98934</td>\n",
              "      <td>3.04</td>\n",
              "      <td>0.26</td>\n",
              "      <td>13.4</td>\n",
              "    </tr>\n",
              "    <tr>\n",
              "      <th>2</th>\n",
              "      <td>6.0</td>\n",
              "      <td>0.40</td>\n",
              "      <td>0.30</td>\n",
              "      <td>1.6</td>\n",
              "      <td>0.047</td>\n",
              "      <td>30.0</td>\n",
              "      <td>117.0</td>\n",
              "      <td>0.99310</td>\n",
              "      <td>3.17</td>\n",
              "      <td>0.48</td>\n",
              "      <td>10.1</td>\n",
              "    </tr>\n",
              "    <tr>\n",
              "      <th>3</th>\n",
              "      <td>7.1</td>\n",
              "      <td>0.28</td>\n",
              "      <td>0.19</td>\n",
              "      <td>7.8</td>\n",
              "      <td>0.040</td>\n",
              "      <td>48.0</td>\n",
              "      <td>184.0</td>\n",
              "      <td>0.99579</td>\n",
              "      <td>3.16</td>\n",
              "      <td>0.50</td>\n",
              "      <td>9.4</td>\n",
              "    </tr>\n",
              "    <tr>\n",
              "      <th>4</th>\n",
              "      <td>7.0</td>\n",
              "      <td>0.35</td>\n",
              "      <td>0.24</td>\n",
              "      <td>1.9</td>\n",
              "      <td>0.040</td>\n",
              "      <td>21.0</td>\n",
              "      <td>144.0</td>\n",
              "      <td>0.99230</td>\n",
              "      <td>3.35</td>\n",
              "      <td>0.38</td>\n",
              "      <td>11.0</td>\n",
              "    </tr>\n",
              "  </tbody>\n",
              "</table>\n",
              "</div>"
            ],
            "text/plain": [
              "    X1    X2    X3   X4     X5    X6     X7       X8    X9   X10   X11\n",
              "0  6.8  0.24  0.29  9.5  0.042  56.0  157.0  0.99586  3.11  0.51  10.1\n",
              "1  6.2  0.37  0.24  6.1  0.032  19.0   86.0  0.98934  3.04  0.26  13.4\n",
              "2  6.0  0.40  0.30  1.6  0.047  30.0  117.0  0.99310  3.17  0.48  10.1\n",
              "3  7.1  0.28  0.19  7.8  0.040  48.0  184.0  0.99579  3.16  0.50   9.4\n",
              "4  7.0  0.35  0.24  1.9  0.040  21.0  144.0  0.99230  3.35  0.38  11.0"
            ]
          },
          "metadata": {
            "tags": []
          },
          "execution_count": 30
        }
      ]
    },
    {
      "cell_type": "code",
      "metadata": {
        "colab": {
          "base_uri": "https://localhost:8080/",
          "height": 433
        },
        "id": "L_mpFzstqgZY",
        "outputId": "fad36a22-3110-4e7a-f83d-2659874cccd6"
      },
      "source": [
        "ax = sns.countplot(answer_Y,label=\"Count\")\n",
        "print(answer_Y.value_counts())\n",
        "l1, l2, l3, l4, l5 = answer_Y.value_counts()"
      ],
      "execution_count": null,
      "outputs": [
        {
          "output_type": "stream",
          "text": [
            "3    1651\n",
            "2    1096\n",
            "4     652\n",
            "5     135\n",
            "1     120\n",
            "Name: Y, dtype: int64\n"
          ],
          "name": "stdout"
        },
        {
          "output_type": "stream",
          "text": [
            "/usr/local/lib/python3.6/dist-packages/seaborn/_decorators.py:43: FutureWarning: Pass the following variable as a keyword arg: x. From version 0.12, the only valid positional argument will be `data`, and passing other arguments without an explicit keyword will result in an error or misinterpretation.\n",
            "  FutureWarning\n"
          ],
          "name": "stderr"
        },
        {
          "output_type": "display_data",
          "data": {
            "image/png": "[encoded data removed]",
            "text/plain": [
              "<Figure size 432x288 with 1 Axes>"
            ]
          },
          "metadata": {
            "tags": [],
            "needs_background": "light"
          }
        }
      ]
    },
    {
      "cell_type": "markdown",
      "metadata": {
        "id": "J0sQ-LBa9RZk"
      },
      "source": [
        "Balance the data"
      ]
    },
    {
      "cell_type": "code",
      "metadata": {
        "colab": {
          "base_uri": "https://localhost:8080/"
        },
        "id": "NazWqiFD9QcM",
        "outputId": "992e4af4-554f-4db7-acfe-5e06ce6887d2"
      },
      "source": [
        "pip install -U imbalanced-learn"
      ],
      "execution_count": null,
      "outputs": [
        {
          "output_type": "stream",
          "text": [
            "Requirement already up-to-date: imbalanced-learn in /usr/local/lib/python3.6/dist-packages (0.7.0)\n",
            "Requirement already satisfied, skipping upgrade: numpy>=1.13.3 in /usr/local/lib/python3.6/dist-packages (from imbalanced-learn) (1.18.5)\n",
            "Requirement already satisfied, skipping upgrade: scikit-learn>=0.23 in /usr/local/lib/python3.6/dist-packages (from imbalanced-learn) (0.23.2)\n",
            "Requirement already satisfied, skipping upgrade: joblib>=0.11 in /usr/local/lib/python3.6/dist-packages (from imbalanced-learn) (0.17.0)\n",
            "Requirement already satisfied, skipping upgrade: scipy>=0.19.1 in /usr/local/lib/python3.6/dist-packages (from imbalanced-learn) (1.4.1)\n",
            "Requirement already satisfied, skipping upgrade: threadpoolctl>=2.0.0 in /usr/local/lib/python3.6/dist-packages (from scikit-learn>=0.23->imbalanced-learn) (2.1.0)\n"
          ],
          "name": "stdout"
        }
      ]
    },
    {
      "cell_type": "code",
      "metadata": {
        "id": "fJJu4DmO91nd"
      },
      "source": [
        ""
      ],
      "execution_count": null,
      "outputs": []
    },
    {
      "cell_type": "code",
      "metadata": {
        "colab": {
          "base_uri": "https://localhost:8080/",
          "height": 286
        },
        "id": "W6mfSOUVtRKM",
        "outputId": "f4940a0f-07ef-4eab-ad9b-459763143033"
      },
      "source": [
        "X.describe()"
      ],
      "execution_count": null,
      "outputs": [
        {
          "output_type": "execute_result",
          "data": {
            "text/html": [
              "<div>\n",
              "<style scoped>\n",
              "    .dataframe tbody tr th:only-of-type {\n",
              "        vertical-align: middle;\n",
              "    }\n",
              "\n",
              "    .dataframe tbody tr th {\n",
              "        vertical-align: top;\n",
              "    }\n",
              "\n",
              "    .dataframe thead th {\n",
              "        text-align: right;\n",
              "    }\n",
              "</style>\n",
              "<table border=\"1\" class=\"dataframe\">\n",
              "  <thead>\n",
              "    <tr style=\"text-align: right;\">\n",
              "      <th></th>\n",
              "      <th>X1</th>\n",
              "      <th>X2</th>\n",
              "      <th>X3</th>\n",
              "      <th>X4</th>\n",
              "      <th>X5</th>\n",
              "      <th>X6</th>\n",
              "      <th>X7</th>\n",
              "      <th>X8</th>\n",
              "      <th>X9</th>\n",
              "      <th>X10</th>\n",
              "      <th>X11</th>\n",
              "    </tr>\n",
              "  </thead>\n",
              "  <tbody>\n",
              "    <tr>\n",
              "      <th>count</th>\n",
              "      <td>3654.000000</td>\n",
              "      <td>3654.000000</td>\n",
              "      <td>3654.000000</td>\n",
              "      <td>3654.000000</td>\n",
              "      <td>3654.000000</td>\n",
              "      <td>3654.000000</td>\n",
              "      <td>3654.000000</td>\n",
              "      <td>3654.000000</td>\n",
              "      <td>3654.000000</td>\n",
              "      <td>3654.000000</td>\n",
              "      <td>3654.000000</td>\n",
              "    </tr>\n",
              "    <tr>\n",
              "      <th>mean</th>\n",
              "      <td>6.857635</td>\n",
              "      <td>0.277552</td>\n",
              "      <td>0.335298</td>\n",
              "      <td>6.319978</td>\n",
              "      <td>0.045768</td>\n",
              "      <td>35.213875</td>\n",
              "      <td>137.935140</td>\n",
              "      <td>0.993995</td>\n",
              "      <td>3.189450</td>\n",
              "      <td>0.487890</td>\n",
              "      <td>10.524459</td>\n",
              "    </tr>\n",
              "    <tr>\n",
              "      <th>std</th>\n",
              "      <td>0.840594</td>\n",
              "      <td>0.102041</td>\n",
              "      <td>0.121766</td>\n",
              "      <td>5.076004</td>\n",
              "      <td>0.022166</td>\n",
              "      <td>16.452680</td>\n",
              "      <td>42.164981</td>\n",
              "      <td>0.003015</td>\n",
              "      <td>0.150104</td>\n",
              "      <td>0.113918</td>\n",
              "      <td>1.231922</td>\n",
              "    </tr>\n",
              "    <tr>\n",
              "      <th>min</th>\n",
              "      <td>3.900000</td>\n",
              "      <td>0.080000</td>\n",
              "      <td>0.000000</td>\n",
              "      <td>0.600000</td>\n",
              "      <td>0.009000</td>\n",
              "      <td>2.000000</td>\n",
              "      <td>9.000000</td>\n",
              "      <td>0.987220</td>\n",
              "      <td>2.720000</td>\n",
              "      <td>0.220000</td>\n",
              "      <td>8.000000</td>\n",
              "    </tr>\n",
              "    <tr>\n",
              "      <th>25%</th>\n",
              "      <td>6.300000</td>\n",
              "      <td>0.210000</td>\n",
              "      <td>0.270000</td>\n",
              "      <td>1.700000</td>\n",
              "      <td>0.036000</td>\n",
              "      <td>23.000000</td>\n",
              "      <td>107.000000</td>\n",
              "      <td>0.991700</td>\n",
              "      <td>3.090000</td>\n",
              "      <td>0.410000</td>\n",
              "      <td>9.500000</td>\n",
              "    </tr>\n",
              "    <tr>\n",
              "      <th>50%</th>\n",
              "      <td>6.800000</td>\n",
              "      <td>0.260000</td>\n",
              "      <td>0.320000</td>\n",
              "      <td>5.100000</td>\n",
              "      <td>0.043000</td>\n",
              "      <td>34.000000</td>\n",
              "      <td>134.000000</td>\n",
              "      <td>0.993700</td>\n",
              "      <td>3.180000</td>\n",
              "      <td>0.470000</td>\n",
              "      <td>10.400000</td>\n",
              "    </tr>\n",
              "    <tr>\n",
              "      <th>75%</th>\n",
              "      <td>7.300000</td>\n",
              "      <td>0.320000</td>\n",
              "      <td>0.390000</td>\n",
              "      <td>9.775000</td>\n",
              "      <td>0.050000</td>\n",
              "      <td>45.000000</td>\n",
              "      <td>167.000000</td>\n",
              "      <td>0.996040</td>\n",
              "      <td>3.280000</td>\n",
              "      <td>0.540000</td>\n",
              "      <td>11.400000</td>\n",
              "    </tr>\n",
              "    <tr>\n",
              "      <th>max</th>\n",
              "      <td>10.700000</td>\n",
              "      <td>1.100000</td>\n",
              "      <td>1.660000</td>\n",
              "      <td>65.800000</td>\n",
              "      <td>0.346000</td>\n",
              "      <td>131.000000</td>\n",
              "      <td>344.000000</td>\n",
              "      <td>1.038980</td>\n",
              "      <td>3.810000</td>\n",
              "      <td>1.060000</td>\n",
              "      <td>14.200000</td>\n",
              "    </tr>\n",
              "  </tbody>\n",
              "</table>\n",
              "</div>"
            ],
            "text/plain": [
              "                X1           X2  ...          X10          X11\n",
              "count  3654.000000  3654.000000  ...  3654.000000  3654.000000\n",
              "mean      6.857635     0.277552  ...     0.487890    10.524459\n",
              "std       0.840594     0.102041  ...     0.113918     1.231922\n",
              "min       3.900000     0.080000  ...     0.220000     8.000000\n",
              "25%       6.300000     0.210000  ...     0.410000     9.500000\n",
              "50%       6.800000     0.260000  ...     0.470000    10.400000\n",
              "75%       7.300000     0.320000  ...     0.540000    11.400000\n",
              "max      10.700000     1.100000  ...     1.060000    14.200000\n",
              "\n",
              "[8 rows x 11 columns]"
            ]
          },
          "metadata": {
            "tags": []
          },
          "execution_count": 33
        }
      ]
    },
    {
      "cell_type": "code",
      "metadata": {
        "colab": {
          "base_uri": "https://localhost:8080/",
          "height": 1000
        },
        "id": "JwgRYj72tvtY",
        "outputId": "bf1befe3-72e1-4bed-f511-caf531870102"
      },
      "source": [
        "f,ax = plt.subplots(figsize=(18, 18))\n",
        "sns.heatmap(X.corr(), annot=True, linewidths=.5, fmt= '.1f',ax=ax)"
      ],
      "execution_count": null,
      "outputs": [
        {
          "output_type": "execute_result",
          "data": {
            "text/plain": [
              "<matplotlib.axes._subplots.AxesSubplot at 0x7f3576441320>"
            ]
          },
          "metadata": {
            "tags": []
          },
          "execution_count": 34
        },
        {
          "output_type": "display_data",
          "data": {
            "image/png": "[encoded data removed]",
            "text/plain": [
              "<Figure size 1296x1296 with 2 Axes>"
            ]
          },
          "metadata": {
            "tags": [],
            "needs_background": "light"
          }
        }
      ]
    },
    {
      "cell_type": "code",
      "metadata": {
        "colab": {
          "base_uri": "https://localhost:8080/",
          "height": 196
        },
        "id": "pGJM3T3_uh0n",
        "outputId": "9738f8a8-c5c4-41ca-931a-9c1f85ecc15c"
      },
      "source": [
        "drop_list1 = ['X4']\n",
        "\n",
        "X_1 = X.drop(drop_list1,axis = 1 )        # do not modify x, we will use it later \n",
        "X_1.head()"
      ],
      "execution_count": null,
      "outputs": [
        {
          "output_type": "execute_result",
          "data": {
            "text/html": [
              "<div>\n",
              "<style scoped>\n",
              "    .dataframe tbody tr th:only-of-type {\n",
              "        vertical-align: middle;\n",
              "    }\n",
              "\n",
              "    .dataframe tbody tr th {\n",
              "        vertical-align: top;\n",
              "    }\n",
              "\n",
              "    .dataframe thead th {\n",
              "        text-align: right;\n",
              "    }\n",
              "</style>\n",
              "<table border=\"1\" class=\"dataframe\">\n",
              "  <thead>\n",
              "    <tr style=\"text-align: right;\">\n",
              "      <th></th>\n",
              "      <th>X1</th>\n",
              "      <th>X2</th>\n",
              "      <th>X3</th>\n",
              "      <th>X5</th>\n",
              "      <th>X6</th>\n",
              "      <th>X7</th>\n",
              "      <th>X8</th>\n",
              "      <th>X9</th>\n",
              "      <th>X10</th>\n",
              "      <th>X11</th>\n",
              "    </tr>\n",
              "  </thead>\n",
              "  <tbody>\n",
              "    <tr>\n",
              "      <th>0</th>\n",
              "      <td>6.8</td>\n",
              "      <td>0.24</td>\n",
              "      <td>0.29</td>\n",
              "      <td>0.042</td>\n",
              "      <td>56.0</td>\n",
              "      <td>157.0</td>\n",
              "      <td>0.99586</td>\n",
              "      <td>3.11</td>\n",
              "      <td>0.51</td>\n",
              "      <td>10.1</td>\n",
              "    </tr>\n",
              "    <tr>\n",
              "      <th>1</th>\n",
              "      <td>6.2</td>\n",
              "      <td>0.37</td>\n",
              "      <td>0.24</td>\n",
              "      <td>0.032</td>\n",
              "      <td>19.0</td>\n",
              "      <td>86.0</td>\n",
              "      <td>0.98934</td>\n",
              "      <td>3.04</td>\n",
              "      <td>0.26</td>\n",
              "      <td>13.4</td>\n",
              "    </tr>\n",
              "    <tr>\n",
              "      <th>2</th>\n",
              "      <td>6.0</td>\n",
              "      <td>0.40</td>\n",
              "      <td>0.30</td>\n",
              "      <td>0.047</td>\n",
              "      <td>30.0</td>\n",
              "      <td>117.0</td>\n",
              "      <td>0.99310</td>\n",
              "      <td>3.17</td>\n",
              "      <td>0.48</td>\n",
              "      <td>10.1</td>\n",
              "    </tr>\n",
              "    <tr>\n",
              "      <th>3</th>\n",
              "      <td>7.1</td>\n",
              "      <td>0.28</td>\n",
              "      <td>0.19</td>\n",
              "      <td>0.040</td>\n",
              "      <td>48.0</td>\n",
              "      <td>184.0</td>\n",
              "      <td>0.99579</td>\n",
              "      <td>3.16</td>\n",
              "      <td>0.50</td>\n",
              "      <td>9.4</td>\n",
              "    </tr>\n",
              "    <tr>\n",
              "      <th>4</th>\n",
              "      <td>7.0</td>\n",
              "      <td>0.35</td>\n",
              "      <td>0.24</td>\n",
              "      <td>0.040</td>\n",
              "      <td>21.0</td>\n",
              "      <td>144.0</td>\n",
              "      <td>0.99230</td>\n",
              "      <td>3.35</td>\n",
              "      <td>0.38</td>\n",
              "      <td>11.0</td>\n",
              "    </tr>\n",
              "  </tbody>\n",
              "</table>\n",
              "</div>"
            ],
            "text/plain": [
              "    X1    X2    X3     X5    X6     X7       X8    X9   X10   X11\n",
              "0  6.8  0.24  0.29  0.042  56.0  157.0  0.99586  3.11  0.51  10.1\n",
              "1  6.2  0.37  0.24  0.032  19.0   86.0  0.98934  3.04  0.26  13.4\n",
              "2  6.0  0.40  0.30  0.047  30.0  117.0  0.99310  3.17  0.48  10.1\n",
              "3  7.1  0.28  0.19  0.040  48.0  184.0  0.99579  3.16  0.50   9.4\n",
              "4  7.0  0.35  0.24  0.040  21.0  144.0  0.99230  3.35  0.38  11.0"
            ]
          },
          "metadata": {
            "tags": []
          },
          "execution_count": 35
        }
      ]
    },
    {
      "cell_type": "code",
      "metadata": {
        "colab": {
          "base_uri": "https://localhost:8080/",
          "height": 830
        },
        "id": "KZ0KajFGu-IE",
        "outputId": "829a1b53-3996-4001-ac9f-e92df8c4fe68"
      },
      "source": [
        "f,ax = plt.subplots(figsize=(14, 14))\n",
        "sns.heatmap(X_1.corr(), annot=True, linewidths=.5, fmt= '.1f',ax=ax)"
      ],
      "execution_count": null,
      "outputs": [
        {
          "output_type": "execute_result",
          "data": {
            "text/plain": [
              "<matplotlib.axes._subplots.AxesSubplot at 0x7f3576490588>"
            ]
          },
          "metadata": {
            "tags": []
          },
          "execution_count": 36
        },
        {
          "output_type": "display_data",
          "data": {
            "image/png": "[encoded data removed]",
            "text/plain": [
              "<Figure size 1008x1008 with 2 Axes>"
            ]
          },
          "metadata": {
            "tags": [],
            "needs_background": "light"
          }
        }
      ]
    },
    {
      "cell_type": "markdown",
      "metadata": {
        "id": "BxWmmQTGD0jI"
      },
      "source": [
        "Normorlization\n",
        "\n"
      ]
    },
    {
      "cell_type": "code",
      "metadata": {
        "colab": {
          "base_uri": "https://localhost:8080/"
        },
        "id": "qiU90VTWDz8-",
        "outputId": "3ff07d6b-922c-41f6-9a2e-279af71d39f3"
      },
      "source": [
        "dataset = weather.values\n",
        "X = dataset[:,1:12].astype(float)\n",
        "normorlized_X_1 = preprocessing.MinMaxScaler().fit_transform(X_1)\n",
        "normorlized_X_1 = (X_1 - X_1.mean()) / (X_1.std())      # standardization x only\n",
        "normorlized_data = pd.concat([normorlized_X_1.iloc[:,0:],answer_Y],axis=1)  # combine x and y\n",
        "print(normorlized_data.shape)\n",
        "print(normorlized_data)"
      ],
      "execution_count": null,
      "outputs": [
        {
          "output_type": "stream",
          "text": [
            "(3654, 11)\n",
            "            X1        X2        X3        X5  ...        X9       X10       X11  Y\n",
            "0    -0.068565 -0.368010 -0.372011 -0.170012  ... -0.529299  0.194087 -0.344550  3\n",
            "1    -0.782346  0.905991 -0.782635 -0.621153  ... -0.995642 -2.000476  2.334191  5\n",
            "2    -1.020273  1.199991 -0.289887  0.055559  ... -0.129576 -0.069260 -0.344550  3\n",
            "3     0.288325  0.023990 -1.193259 -0.260240  ... -0.196197  0.106305 -0.912768  2\n",
            "4     0.169362  0.709990 -0.782635 -0.260240  ...  1.069592 -0.947085  0.386015  2\n",
            "...        ...       ...       ...       ...  ...       ...       ...       ... ..\n",
            "3649 -0.068565  0.121990  1.352609  0.326244  ... -0.662540 -0.332608 -0.912768  2\n",
            "3650 -1.139237  0.415990 -0.618386  0.506701  ...  0.336767 -1.122650  0.142494  2\n",
            "3651  0.050398 -0.858010 -0.125637 -0.170012  ...  1.402694 -0.859303 -0.019854  3\n",
            "3652 -0.187529  1.395991  0.449236 -0.260240  ...  0.803110  0.808565 -0.669246  2\n",
            "3653 -1.020273  0.121990  0.613486  0.100674  ... -0.662540  0.896347  0.358957  4\n",
            "\n",
            "[3654 rows x 11 columns]\n"
          ],
          "name": "stdout"
        }
      ]
    },
    {
      "cell_type": "markdown",
      "metadata": {
        "id": "HYYpSLSXj8H_"
      },
      "source": [
        "Build the model"
      ]
    },
    {
      "cell_type": "code",
      "metadata": {
        "id": "j1Ia-pCgenHr"
      },
      "source": [
        "def predict_model():\n",
        "  model = Sequential()\n",
        "  model.add(Dense(256, input_dim=10, activation='relu'))\n",
        "  for i in range(3):\n",
        "    model.add(Dense(128, activation='relu'))\n",
        "  for i in range(2):\n",
        "    model.add(Dense(64, activation='relu'))\n",
        "  model.add(Dense(5, activation='softmax'))\n",
        "  model.compile(loss='categorical_crossentropy', optimizer='adam', metrics=['accuracy'])\n",
        "\n",
        "  return model"
      ],
      "execution_count": null,
      "outputs": []
    },
    {
      "cell_type": "code",
      "metadata": {
        "id": "7iEQvDOHenKM",
        "colab": {
          "base_uri": "https://localhost:8080/"
        },
        "outputId": "615668d4-ba0e-499d-a52b-e3d38b73eda8"
      },
      "source": [
        "model = predict_model()\n",
        "model.summary()"
      ],
      "execution_count": null,
      "outputs": [
        {
          "output_type": "stream",
          "text": [
            "Model: \"sequential_2\"\n",
            "_________________________________________________________________\n",
            "Layer (type)                 Output Shape              Param #   \n",
            "=================================================================\n",
            "dense_14 (Dense)             (None, 256)               2816      \n",
            "_________________________________________________________________\n",
            "dense_15 (Dense)             (None, 128)               32896     \n",
            "_________________________________________________________________\n",
            "dense_16 (Dense)             (None, 128)               16512     \n",
            "_________________________________________________________________\n",
            "dense_17 (Dense)             (None, 128)               16512     \n",
            "_________________________________________________________________\n",
            "dense_18 (Dense)             (None, 64)                8256      \n",
            "_________________________________________________________________\n",
            "dense_19 (Dense)             (None, 64)                4160      \n",
            "_________________________________________________________________\n",
            "dense_20 (Dense)             (None, 5)                 325       \n",
            "=================================================================\n",
            "Total params: 81,477\n",
            "Trainable params: 81,477\n",
            "Non-trainable params: 0\n",
            "_________________________________________________________________\n"
          ],
          "name": "stdout"
        }
      ]
    },
    {
      "cell_type": "markdown",
      "metadata": {
        "id": "12WJ-rtFsIJX"
      },
      "source": [
        "Data split\n",
        "\n",
        "```\n",
        "# 此內容會顯示為程式碼\n",
        "```\n",
        "\n"
      ]
    },
    {
      "cell_type": "code",
      "metadata": {
        "id": "qbu2j7c8pzhd"
      },
      "source": [
        "Fold_number = 10"
      ],
      "execution_count": null,
      "outputs": []
    },
    {
      "cell_type": "code",
      "metadata": {
        "id": "NlVMdm3jp1It"
      },
      "source": [
        "kf = KFold(n_splits=Fold_number)\n",
        "kf.get_n_splits(normorlized_X_1)\n",
        "print(kf)"
      ],
      "execution_count": null,
      "outputs": []
    },
    {
      "cell_type": "code",
      "metadata": {
        "id": "tbUFm2Qush5P"
      },
      "source": [
        "for train_index, test_index in kf.split(normorlized_X_1):\n",
        "    print(\"TRAIN:\", train_index, \"\\n\\nTEST:\", test_index, '\\n\\n')"
      ],
      "execution_count": null,
      "outputs": []
    },
    {
      "cell_type": "code",
      "metadata": {
        "id": "7Np5x6uTPKC1"
      },
      "source": [
        "train_data = normorlized_data[0:3000]\n",
        "test_data = normorlized_data[3000:]\n",
        "X_train = train_data.drop('Y',axis=1)\n",
        "Y_train = train_data['Y']\n",
        "Y_train = pd.get_dummies(train_data['Y'],sparse=True)\n",
        "X_test = test_data.drop('Y',axis=1)\n",
        "Y_test = test_data['Y']\n",
        "Y_test = pd.get_dummies(test_data['Y'],sparse=True)\n"
      ],
      "execution_count": null,
      "outputs": []
    },
    {
      "cell_type": "code",
      "metadata": {
        "colab": {
          "base_uri": "https://localhost:8080/"
        },
        "id": "EmqcQVzSQPne",
        "outputId": "01238ea4-4907-4af3-8f5b-eab60029f175"
      },
      "source": [
        "print(X_train.shape)\n",
        "print(Y_train.shape)"
      ],
      "execution_count": null,
      "outputs": [
        {
          "output_type": "stream",
          "text": [
            "(3000, 10)\n",
            "(3000, 5)\n"
          ],
          "name": "stdout"
        }
      ]
    },
    {
      "cell_type": "code",
      "metadata": {
        "id": "2ZWyzFjienMb",
        "colab": {
          "base_uri": "https://localhost:8080/"
        },
        "outputId": "d1fef63f-e849-4350-f193-d5036ddb3662"
      },
      "source": [
        "scores = []\n",
        "i = 0\n",
        "for train_index, test_index in kf.split(X):\n",
        "  i+=1\n",
        "  X_train, X_test = normorlized_X_1[train_index], normorlized_X_1[test_index]\n",
        "  Y_train, Y_test = answer_Y[train_index], answer_Y[test_index]\n",
        "\n",
        "model = predict_model()\n",
        "model.fit(X_train,Y_train,epochs=100,batch_size=10,validation_split=0.1,verbose=2)\n",
        "score_train = model.evaluate(X_train,Y_train,verbose=0) \n",
        "score_test = model.evaluate(X_test,Y_test,verbose=0) \n",
        "print(\"train:{:0.2f},\".format\\\n",
        "          (score_train[1]),\"test:{:0.2f}\".format(score_test[1]))\n",
        "scores.append(score_test[1])"
      ],
      "execution_count": null,
      "outputs": [
        {
          "output_type": "stream",
          "text": [
            "Epoch 1/100\n",
            "270/270 - 1s - loss: 1.1639 - accuracy: 0.5122 - val_loss: 1.1719 - val_accuracy: 0.4900\n",
            "Epoch 2/100\n",
            "270/270 - 0s - loss: 1.0651 - accuracy: 0.5459 - val_loss: 1.0672 - val_accuracy: 0.5133\n",
            "Epoch 3/100\n",
            "270/270 - 0s - loss: 1.0267 - accuracy: 0.5526 - val_loss: 1.0709 - val_accuracy: 0.4800\n",
            "Epoch 4/100\n",
            "270/270 - 0s - loss: 0.9998 - accuracy: 0.5670 - val_loss: 1.0046 - val_accuracy: 0.5267\n",
            "Epoch 5/100\n",
            "270/270 - 0s - loss: 0.9796 - accuracy: 0.5878 - val_loss: 1.0319 - val_accuracy: 0.5333\n",
            "Epoch 6/100\n",
            "270/270 - 0s - loss: 0.9617 - accuracy: 0.5859 - val_loss: 1.0447 - val_accuracy: 0.5167\n",
            "Epoch 7/100\n",
            "270/270 - 0s - loss: 0.9420 - accuracy: 0.5904 - val_loss: 0.9955 - val_accuracy: 0.5367\n",
            "Epoch 8/100\n",
            "270/270 - 0s - loss: 0.9152 - accuracy: 0.6004 - val_loss: 1.0187 - val_accuracy: 0.5767\n",
            "Epoch 9/100\n",
            "270/270 - 0s - loss: 0.8882 - accuracy: 0.6163 - val_loss: 1.0693 - val_accuracy: 0.5367\n",
            "Epoch 10/100\n",
            "270/270 - 0s - loss: 0.8743 - accuracy: 0.6281 - val_loss: 0.9995 - val_accuracy: 0.5567\n",
            "Epoch 11/100\n",
            "270/270 - 0s - loss: 0.8348 - accuracy: 0.6404 - val_loss: 1.0539 - val_accuracy: 0.5633\n",
            "Epoch 12/100\n",
            "270/270 - 0s - loss: 0.8100 - accuracy: 0.6548 - val_loss: 1.0162 - val_accuracy: 0.6033\n",
            "Epoch 13/100\n",
            "270/270 - 0s - loss: 0.7783 - accuracy: 0.6719 - val_loss: 1.0534 - val_accuracy: 0.5700\n",
            "Epoch 14/100\n",
            "270/270 - 0s - loss: 0.7387 - accuracy: 0.6826 - val_loss: 1.1612 - val_accuracy: 0.5767\n",
            "Epoch 15/100\n",
            "270/270 - 0s - loss: 0.7097 - accuracy: 0.6930 - val_loss: 1.0545 - val_accuracy: 0.6167\n",
            "Epoch 16/100\n",
            "270/270 - 0s - loss: 0.6610 - accuracy: 0.7244 - val_loss: 1.0961 - val_accuracy: 0.5867\n",
            "Epoch 17/100\n",
            "270/270 - 0s - loss: 0.6373 - accuracy: 0.7304 - val_loss: 1.1509 - val_accuracy: 0.5933\n",
            "Epoch 18/100\n",
            "270/270 - 0s - loss: 0.6129 - accuracy: 0.7478 - val_loss: 1.2205 - val_accuracy: 0.5700\n",
            "Epoch 19/100\n",
            "270/270 - 0s - loss: 0.5783 - accuracy: 0.7556 - val_loss: 1.1929 - val_accuracy: 0.5867\n",
            "Epoch 20/100\n",
            "270/270 - 0s - loss: 0.5024 - accuracy: 0.7867 - val_loss: 1.3608 - val_accuracy: 0.5933\n",
            "Epoch 21/100\n",
            "270/270 - 0s - loss: 0.4902 - accuracy: 0.7978 - val_loss: 1.3240 - val_accuracy: 0.5833\n",
            "Epoch 22/100\n",
            "270/270 - 0s - loss: 0.4796 - accuracy: 0.8048 - val_loss: 1.2501 - val_accuracy: 0.5733\n",
            "Epoch 23/100\n",
            "270/270 - 0s - loss: 0.4285 - accuracy: 0.8248 - val_loss: 1.4359 - val_accuracy: 0.6133\n",
            "Epoch 24/100\n",
            "270/270 - 0s - loss: 0.4013 - accuracy: 0.8304 - val_loss: 1.4779 - val_accuracy: 0.5800\n",
            "Epoch 25/100\n",
            "270/270 - 0s - loss: 0.3695 - accuracy: 0.8489 - val_loss: 1.7284 - val_accuracy: 0.5700\n",
            "Epoch 26/100\n",
            "270/270 - 0s - loss: 0.3337 - accuracy: 0.8585 - val_loss: 1.7291 - val_accuracy: 0.5867\n",
            "Epoch 27/100\n",
            "270/270 - 0s - loss: 0.2820 - accuracy: 0.8848 - val_loss: 1.9244 - val_accuracy: 0.5800\n",
            "Epoch 28/100\n",
            "270/270 - 0s - loss: 0.3448 - accuracy: 0.8663 - val_loss: 1.7099 - val_accuracy: 0.6000\n",
            "Epoch 29/100\n",
            "270/270 - 0s - loss: 0.2925 - accuracy: 0.8819 - val_loss: 1.9645 - val_accuracy: 0.5700\n",
            "Epoch 30/100\n",
            "270/270 - 0s - loss: 0.3027 - accuracy: 0.8800 - val_loss: 1.8693 - val_accuracy: 0.5733\n",
            "Epoch 31/100\n",
            "270/270 - 0s - loss: 0.2408 - accuracy: 0.9081 - val_loss: 2.0445 - val_accuracy: 0.6167\n",
            "Epoch 32/100\n",
            "270/270 - 0s - loss: 0.2574 - accuracy: 0.9048 - val_loss: 2.0174 - val_accuracy: 0.5800\n",
            "Epoch 33/100\n",
            "270/270 - 0s - loss: 0.2158 - accuracy: 0.9144 - val_loss: 2.1474 - val_accuracy: 0.5767\n",
            "Epoch 34/100\n",
            "270/270 - 0s - loss: 0.2008 - accuracy: 0.9241 - val_loss: 2.1076 - val_accuracy: 0.5867\n",
            "Epoch 35/100\n",
            "270/270 - 0s - loss: 0.2063 - accuracy: 0.9156 - val_loss: 2.1458 - val_accuracy: 0.5800\n",
            "Epoch 36/100\n",
            "270/270 - 0s - loss: 0.1882 - accuracy: 0.9267 - val_loss: 2.2971 - val_accuracy: 0.5767\n",
            "Epoch 37/100\n",
            "270/270 - 0s - loss: 0.2296 - accuracy: 0.9130 - val_loss: 2.0933 - val_accuracy: 0.5833\n",
            "Epoch 38/100\n",
            "270/270 - 0s - loss: 0.1658 - accuracy: 0.9415 - val_loss: 2.2377 - val_accuracy: 0.6200\n",
            "Epoch 39/100\n",
            "270/270 - 0s - loss: 0.1667 - accuracy: 0.9374 - val_loss: 2.5997 - val_accuracy: 0.5967\n",
            "Epoch 40/100\n",
            "270/270 - 0s - loss: 0.1588 - accuracy: 0.9422 - val_loss: 2.5978 - val_accuracy: 0.5433\n",
            "Epoch 41/100\n",
            "270/270 - 0s - loss: 0.2001 - accuracy: 0.9289 - val_loss: 2.2603 - val_accuracy: 0.5833\n",
            "Epoch 42/100\n",
            "270/270 - 0s - loss: 0.1549 - accuracy: 0.9396 - val_loss: 2.5308 - val_accuracy: 0.6033\n",
            "Epoch 43/100\n",
            "270/270 - 0s - loss: 0.1465 - accuracy: 0.9444 - val_loss: 2.4610 - val_accuracy: 0.6033\n",
            "Epoch 44/100\n",
            "270/270 - 0s - loss: 0.1474 - accuracy: 0.9426 - val_loss: 2.6141 - val_accuracy: 0.5600\n",
            "Epoch 45/100\n",
            "270/270 - 0s - loss: 0.1437 - accuracy: 0.9489 - val_loss: 2.1417 - val_accuracy: 0.5900\n",
            "Epoch 46/100\n",
            "270/270 - 0s - loss: 0.1424 - accuracy: 0.9515 - val_loss: 2.4745 - val_accuracy: 0.5667\n",
            "Epoch 47/100\n",
            "270/270 - 0s - loss: 0.1689 - accuracy: 0.9481 - val_loss: 2.3905 - val_accuracy: 0.5767\n",
            "Epoch 48/100\n",
            "270/270 - 0s - loss: 0.1359 - accuracy: 0.9530 - val_loss: 2.3452 - val_accuracy: 0.6133\n",
            "Epoch 49/100\n",
            "270/270 - 0s - loss: 0.1301 - accuracy: 0.9574 - val_loss: 2.3860 - val_accuracy: 0.5700\n",
            "Epoch 50/100\n",
            "270/270 - 0s - loss: 0.0953 - accuracy: 0.9670 - val_loss: 2.6435 - val_accuracy: 0.5700\n",
            "Epoch 51/100\n",
            "270/270 - 0s - loss: 0.1368 - accuracy: 0.9570 - val_loss: 2.6339 - val_accuracy: 0.5833\n",
            "Epoch 52/100\n",
            "270/270 - 0s - loss: 0.1314 - accuracy: 0.9552 - val_loss: 2.2458 - val_accuracy: 0.5567\n",
            "Epoch 53/100\n",
            "270/270 - 0s - loss: 0.1267 - accuracy: 0.9578 - val_loss: 2.6735 - val_accuracy: 0.6067\n",
            "Epoch 54/100\n",
            "270/270 - 0s - loss: 0.0982 - accuracy: 0.9678 - val_loss: 2.5038 - val_accuracy: 0.5933\n",
            "Epoch 55/100\n",
            "270/270 - 0s - loss: 0.1029 - accuracy: 0.9681 - val_loss: 2.4435 - val_accuracy: 0.5967\n",
            "Epoch 56/100\n",
            "270/270 - 0s - loss: 0.1086 - accuracy: 0.9596 - val_loss: 3.0468 - val_accuracy: 0.5933\n",
            "Epoch 57/100\n",
            "270/270 - 0s - loss: 0.1439 - accuracy: 0.9544 - val_loss: 2.6740 - val_accuracy: 0.5633\n",
            "Epoch 58/100\n",
            "270/270 - 0s - loss: 0.1328 - accuracy: 0.9559 - val_loss: 2.3845 - val_accuracy: 0.5700\n",
            "Epoch 59/100\n",
            "270/270 - 0s - loss: 0.0691 - accuracy: 0.9752 - val_loss: 2.6612 - val_accuracy: 0.5700\n",
            "Epoch 60/100\n",
            "270/270 - 0s - loss: 0.0894 - accuracy: 0.9733 - val_loss: 2.8735 - val_accuracy: 0.5467\n",
            "Epoch 61/100\n",
            "270/270 - 0s - loss: 0.1242 - accuracy: 0.9611 - val_loss: 2.6352 - val_accuracy: 0.6033\n",
            "Epoch 62/100\n",
            "270/270 - 0s - loss: 0.1443 - accuracy: 0.9496 - val_loss: 2.4244 - val_accuracy: 0.5833\n",
            "Epoch 63/100\n",
            "270/270 - 0s - loss: 0.1004 - accuracy: 0.9656 - val_loss: 2.4563 - val_accuracy: 0.6000\n",
            "Epoch 64/100\n",
            "270/270 - 0s - loss: 0.0592 - accuracy: 0.9800 - val_loss: 3.0166 - val_accuracy: 0.5500\n",
            "Epoch 65/100\n",
            "270/270 - 0s - loss: 0.0821 - accuracy: 0.9737 - val_loss: 2.9060 - val_accuracy: 0.5533\n",
            "Epoch 66/100\n",
            "270/270 - 0s - loss: 0.0829 - accuracy: 0.9726 - val_loss: 2.9911 - val_accuracy: 0.5933\n",
            "Epoch 67/100\n",
            "270/270 - 0s - loss: 0.1188 - accuracy: 0.9607 - val_loss: 2.4246 - val_accuracy: 0.5500\n",
            "Epoch 68/100\n",
            "270/270 - 0s - loss: 0.1029 - accuracy: 0.9656 - val_loss: 2.4334 - val_accuracy: 0.6067\n",
            "Epoch 69/100\n",
            "270/270 - 0s - loss: 0.0831 - accuracy: 0.9730 - val_loss: 2.8980 - val_accuracy: 0.6000\n",
            "Epoch 70/100\n",
            "270/270 - 0s - loss: 0.0884 - accuracy: 0.9715 - val_loss: 2.8144 - val_accuracy: 0.5967\n",
            "Epoch 71/100\n",
            "270/270 - 0s - loss: 0.1058 - accuracy: 0.9626 - val_loss: 2.4535 - val_accuracy: 0.5933\n",
            "Epoch 72/100\n",
            "270/270 - 0s - loss: 0.0856 - accuracy: 0.9696 - val_loss: 2.7534 - val_accuracy: 0.5833\n",
            "Epoch 73/100\n",
            "270/270 - 0s - loss: 0.0896 - accuracy: 0.9711 - val_loss: 2.6988 - val_accuracy: 0.6033\n",
            "Epoch 74/100\n",
            "270/270 - 0s - loss: 0.0888 - accuracy: 0.9715 - val_loss: 2.4196 - val_accuracy: 0.6167\n",
            "Epoch 75/100\n",
            "270/270 - 0s - loss: 0.1223 - accuracy: 0.9604 - val_loss: 2.4137 - val_accuracy: 0.5967\n",
            "Epoch 76/100\n",
            "270/270 - 0s - loss: 0.0560 - accuracy: 0.9815 - val_loss: 2.8359 - val_accuracy: 0.5967\n",
            "Epoch 77/100\n",
            "270/270 - 0s - loss: 0.0628 - accuracy: 0.9774 - val_loss: 3.1439 - val_accuracy: 0.6133\n",
            "Epoch 78/100\n",
            "270/270 - 0s - loss: 0.0662 - accuracy: 0.9763 - val_loss: 2.9395 - val_accuracy: 0.5867\n",
            "Epoch 79/100\n",
            "270/270 - 0s - loss: 0.1020 - accuracy: 0.9644 - val_loss: 2.9053 - val_accuracy: 0.6000\n",
            "Epoch 80/100\n",
            "270/270 - 0s - loss: 0.0457 - accuracy: 0.9867 - val_loss: 3.2831 - val_accuracy: 0.5967\n",
            "Epoch 81/100\n",
            "270/270 - 0s - loss: 0.0238 - accuracy: 0.9922 - val_loss: 3.4904 - val_accuracy: 0.5833\n",
            "Epoch 82/100\n",
            "270/270 - 0s - loss: 0.0575 - accuracy: 0.9833 - val_loss: 3.3997 - val_accuracy: 0.5767\n",
            "Epoch 83/100\n",
            "270/270 - 0s - loss: 0.1298 - accuracy: 0.9548 - val_loss: 2.4487 - val_accuracy: 0.6100\n",
            "Epoch 84/100\n",
            "270/270 - 0s - loss: 0.0986 - accuracy: 0.9707 - val_loss: 2.8151 - val_accuracy: 0.5767\n",
            "Epoch 85/100\n",
            "270/270 - 0s - loss: 0.0872 - accuracy: 0.9700 - val_loss: 2.3832 - val_accuracy: 0.5933\n",
            "Epoch 86/100\n",
            "270/270 - 0s - loss: 0.0860 - accuracy: 0.9767 - val_loss: 2.5635 - val_accuracy: 0.6033\n",
            "Epoch 87/100\n",
            "270/270 - 0s - loss: 0.0511 - accuracy: 0.9830 - val_loss: 2.8828 - val_accuracy: 0.5933\n",
            "Epoch 88/100\n",
            "270/270 - 0s - loss: 0.0374 - accuracy: 0.9881 - val_loss: 3.3016 - val_accuracy: 0.6000\n",
            "Epoch 89/100\n",
            "270/270 - 0s - loss: 0.0858 - accuracy: 0.9733 - val_loss: 2.4345 - val_accuracy: 0.6033\n",
            "Epoch 90/100\n",
            "270/270 - 0s - loss: 0.1004 - accuracy: 0.9648 - val_loss: 2.2961 - val_accuracy: 0.5933\n",
            "Epoch 91/100\n",
            "270/270 - 0s - loss: 0.0926 - accuracy: 0.9693 - val_loss: 2.7960 - val_accuracy: 0.5900\n",
            "Epoch 92/100\n",
            "270/270 - 0s - loss: 0.0664 - accuracy: 0.9770 - val_loss: 2.8320 - val_accuracy: 0.6000\n",
            "Epoch 93/100\n",
            "270/270 - 0s - loss: 0.0337 - accuracy: 0.9904 - val_loss: 3.0756 - val_accuracy: 0.5933\n",
            "Epoch 94/100\n",
            "270/270 - 0s - loss: 0.0698 - accuracy: 0.9796 - val_loss: 3.4699 - val_accuracy: 0.5733\n",
            "Epoch 95/100\n",
            "270/270 - 0s - loss: 0.1201 - accuracy: 0.9619 - val_loss: 2.8623 - val_accuracy: 0.5967\n",
            "Epoch 96/100\n",
            "270/270 - 0s - loss: 0.0702 - accuracy: 0.9763 - val_loss: 2.9758 - val_accuracy: 0.5700\n",
            "Epoch 97/100\n",
            "270/270 - 0s - loss: 0.0430 - accuracy: 0.9841 - val_loss: 3.1048 - val_accuracy: 0.6167\n",
            "Epoch 98/100\n",
            "270/270 - 0s - loss: 0.0567 - accuracy: 0.9811 - val_loss: 2.9621 - val_accuracy: 0.6067\n",
            "Epoch 99/100\n",
            "270/270 - 0s - loss: 0.0804 - accuracy: 0.9756 - val_loss: 2.6125 - val_accuracy: 0.5833\n",
            "Epoch 100/100\n",
            "270/270 - 0s - loss: 0.0366 - accuracy: 0.9893 - val_loss: 3.3983 - val_accuracy: 0.5633\n",
            "train:0.94, test:0.57\n"
          ],
          "name": "stdout"
        }
      ]
    },
    {
      "cell_type": "code",
      "metadata": {
        "id": "lX3ATRfl3cer"
      },
      "source": [
        "print(\"Cross Validation with {:d}\".format(Fold_number),\\\n",
        "      \"folds.\\nCV score = {:0.3f} +/- {:0.3f}\".\\\n",
        "      format(np.mean(np.array(scores)),\\\n",
        "             np.std(np.array(scores))))"
      ],
      "execution_count": null,
      "outputs": []
    },
    {
      "cell_type": "markdown",
      "metadata": {
        "id": "ka73VX6OJL9t"
      },
      "source": [
        "Build KNN model"
      ]
    },
    {
      "cell_type": "code",
      "metadata": {
        "id": "Q6aqGy1zJLT_"
      },
      "source": [
        "X_train, X_test = normorlized_X_1[train_index], normorlized_X_1[test_index]\n",
        "Y_train, Y_test = answer_Y[train_index], answer_Y[test_index]\n",
        "clf=KNeighborsClassifier(n_neighbors=10,p=2,weights='distance',algorithm='brute')\n",
        "clf.fit(X_train,Y_train)"
      ],
      "execution_count": null,
      "outputs": []
    },
    {
      "cell_type": "markdown",
      "metadata": {
        "id": "9jseuDjyLzpa"
      },
      "source": [
        "KNN Prediction"
      ]
    },
    {
      "cell_type": "code",
      "metadata": {
        "id": "JvSdTkZFLzBa"
      },
      "source": [
        "clf.predict(X_test)\n",
        "print(\"Training score:\",clf.score(X_train,Y_train))\n",
        "print(\"Testing score:\",clf.score(X_test,Y_test))"
      ],
      "execution_count": null,
      "outputs": []
    },
    {
      "cell_type": "markdown",
      "metadata": {
        "id": "FybG_ZitXRne"
      },
      "source": [
        "Output"
      ]
    },
    {
      "cell_type": "code",
      "metadata": {
        "id": "Y3sT3yi0XXBH"
      },
      "source": [
        "clf.fit(normorlized_X ,answer_Y)\n",
        "test_data = pd.read_csv(\"test.csv\")\n",
        "test_dataset = test_data.values\n",
        "test_data_X = test_dataset[:,1:12].astype(float)\n",
        "normorlized_test_data_X = preprocessing.MinMaxScaler().fit_transform(test_data_X)\n",
        "Y_predict = clf.predict(normorlized_test_data_X)"
      ],
      "execution_count": null,
      "outputs": []
    },
    {
      "cell_type": "code",
      "metadata": {
        "id": "noTwuPPfY8-D"
      },
      "source": [
        "predict_sample = pd.read_csv(\"sample_submission.csv\", index_col=0)\n",
        "predict_sample['Y'] = Y_predict\n",
        "predict_sample.to_csv(\"predict_1.csv\")"
      ],
      "execution_count": null,
      "outputs": []
    },
    {
      "cell_type": "markdown",
      "metadata": {
        "id": "GLi0JY2_8qRA"
      },
      "source": [
        "XGBoost"
      ]
    },
    {
      "cell_type": "code",
      "metadata": {
        "id": "EpkyyGkI8o8v"
      },
      "source": [
        "i = 0\n",
        "# for train_index, test_index in kf.split(normorlized_X_1):\n",
        "#   i+=1\n",
        "eval_set = [(X_test, Y_test)]\n",
        "  # X_train, X_test = normorlized_X_1[train_index], normorlized_X_1[test_index]\n",
        "  # Y_train, Y_test = answer_Y[train_index], answer_Y[test_index]\n",
        "xgbc = XGBClassifier(base_score=0.5, booster='gbtree', colsample_bylevel=1,\n",
        "      colsample_bytree=1, gamma=0, learning_rate=0.1, max_delta_step=0,\n",
        "      max_depth=10, min_child_weight=1, missing=None, n_estimators=2000,\n",
        "      n_jobs=1, nthread=None, objective='binary:logistic', random_state=40,\n",
        "      reg_alpha=0, reg_lambda=1, scale_pos_weight=1, seed=None,\n",
        "      silent=True, subsample=1)\n",
        "xgbc.fit(X_train, Y_train, early_stopping_rounds=300,eval_metric=[\"merror\",\"mlogloss\"],eval_set=eval_set, verbose=True)\n",
        "print(\"train_score\",xgbc.score(X_train, Y_train),\"test_score\",xgbc.score(X_test, Y_test))\n"
      ],
      "execution_count": null,
      "outputs": []
    },
    {
      "cell_type": "markdown",
      "metadata": {
        "id": "HgwgSY229pdB"
      },
      "source": [
        "GridSearch"
      ]
    },
    {
      "cell_type": "code",
      "metadata": {
        "id": "SwYSkTH29oTo"
      },
      "source": [
        "param_test1 = { 'max_depth':list(range(3,10,1)),\n",
        "          'min_child_weight':list(range(1,6,2)),\n",
        "          'learning_rate':list(range(0.01,0.5,0.02)),\n",
        "          'n_estimators':list(range(100,2000,100))\n",
        "              }\n",
        "GridSearchCV(estimator= XGBClassifier(base_score=0.5, booster='gbtree', colsample_bylevel=1,\n",
        "      colsample_bytree=1, gamma=0, learning_rate=0.1, max_delta_step=0,\n",
        "      max_depth=10, min_child_weight=1, missing=None, n_estimators=2000,\n",
        "      n_jobs=1, nthread=None, objective='binary:logistic', random_state=40,\n",
        "      reg_alpha=0, reg_lambda=1, scale_pos_weight=1, seed=None,\n",
        "      silent=True, subsample=1),\n",
        "             param_grid = param_test1, scoring='roc_auc', iid=False, cv=5)\n",
        "gsearch1.fit(X,y)\n",
        "gsearch1.grid_scores_, gsearch1.best_params_, gsearch1.best_score_"
      ],
      "execution_count": null,
      "outputs": []
    },
    {
      "cell_type": "markdown",
      "metadata": {
        "id": "9T2whQt5kjdk"
      },
      "source": [
        "Random Forest"
      ]
    },
    {
      "cell_type": "code",
      "metadata": {
        "id": "bk8QKN7Dkn4n"
      },
      "source": [
        "from sklearn.model_selection import train_test_split\n",
        "from sklearn.ensemble import RandomForestClassifier\n",
        "from sklearn.metrics import f1_score,confusion_matrix\n",
        "from sklearn.metrics import accuracy_score\n",
        "\n",
        "\n",
        "clf_rf = RandomForestClassifier(n_estimators=1000, random_state=43)\n",
        "scores = []\n",
        "i = 0\n",
        "# for train_index, test_index in kf.split(normorlized_X_1):\n",
        "#   i+=1\n",
        "#   X_train, X_test = normorlized_X_1[train_index], normorlized_X_1[test_index]\n",
        "#   Y_train, Y_test = answer_Y[train_index], answer_Y[test_index]\n",
        "\n",
        "  #random forest classifier with n_estimators=10 (default)\n",
        "clr_rf = clf_rf.fit(X_train,Y_train)\n",
        "\n",
        "ac = accuracy_score(Y_test,clf_rf.predict(X_test))\n",
        "print('Accuracy is: ',ac)\n",
        "scores.append(ac)\n",
        "cm = confusion_matrix(Y_test,clf_rf.predict(X_test))\n",
        "sns.heatmap(cm,annot=True,fmt=\"d\")\n",
        "plt.xlabel('true label')\n",
        "plt.ylabel('predicted label')"
      ],
      "execution_count": null,
      "outputs": []
    },
    {
      "cell_type": "code",
      "metadata": {
        "id": "AucdK5kwku6k"
      },
      "source": [
        "print(scores)\n",
        "avg_score = sum(scores)/len(scores)\n",
        "print(avg_score)"
      ],
      "execution_count": null,
      "outputs": []
    },
    {
      "cell_type": "markdown",
      "metadata": {
        "id": "oWbtA3av0OJp"
      },
      "source": [
        "Output"
      ]
    },
    {
      "cell_type": "markdown",
      "metadata": {
        "id": "Hu4yOFXRg0BY"
      },
      "source": [
        "Preprocessing test data"
      ]
    },
    {
      "cell_type": "code",
      "metadata": {
        "id": "JjzYLZOlgyNN"
      },
      "source": [
        "test_data = pd.read_csv(\"test.csv\")\n",
        "test_data.head()"
      ],
      "execution_count": null,
      "outputs": []
    },
    {
      "cell_type": "code",
      "metadata": {
        "id": "iBrTjUugA5wI"
      },
      "source": [
        ""
      ],
      "execution_count": null,
      "outputs": []
    },
    {
      "cell_type": "code",
      "metadata": {
        "id": "dIccczijhdPM"
      },
      "source": [
        "drop_list2 = ['Unnamed: 0','X4']\n",
        "test_data_X = test_data.drop(drop_list2,axis = 1 )\n",
        "test_data_X.head()"
      ],
      "execution_count": null,
      "outputs": []
    },
    {
      "cell_type": "code",
      "metadata": {
        "id": "6KMM7E0Ph8cf"
      },
      "source": [
        "normorlized_test_data_X = preprocessing.MinMaxScaler().fit_transform(test_data_X)\n",
        "\n",
        "normorlized_test_data_X"
      ],
      "execution_count": null,
      "outputs": []
    },
    {
      "cell_type": "code",
      "metadata": {
        "id": "Heou6v6Th1do"
      },
      "source": [
        "xgbc.fit(normorlized_X_1 ,answer_Y)\n",
        "Y_predict = xgbc.predict(normorlized_test_data_X)"
      ],
      "execution_count": null,
      "outputs": []
    },
    {
      "cell_type": "code",
      "metadata": {
        "id": "gxNKHgi1h8Uj"
      },
      "source": [
        "predict_sample = pd.read_csv(\"sample_submission.csv\", index_col=0)\n",
        "predict_sample['Y'] = Y_predict\n",
        "predict_sample.to_csv(\"predict_4.csv\")"
      ],
      "execution_count": null,
      "outputs": []
    },
    {
      "cell_type": "code",
      "metadata": {
        "id": "q7cOwzYnnCa4"
      },
      "source": [
        ""
      ],
      "execution_count": null,
      "outputs": []
    }
  ]
}